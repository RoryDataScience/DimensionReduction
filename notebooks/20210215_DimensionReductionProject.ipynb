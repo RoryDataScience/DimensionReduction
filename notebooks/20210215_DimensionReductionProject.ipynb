{
 "cells": [
  {
   "cell_type": "markdown",
   "metadata": {},
   "source": [
    "**Project Aim** <br>\n",
    "The aim of this project is to implement and compare a range of dimension reduction algorithms\n",
    "\n",
    "**Project Assumptions** <br>\n",
    "\n",
    "**Project Objective** <br>\n",
    "Implement a range of Dimension Reduction Algorithms\n",
    "- Missing Value Ratio\n",
    "- Low Variance Filter\n",
    "- Correlation (inc. High Correlation Filter)\n",
    "    - Implement correlation and calculate the percentage of variation (r-sq) explained by a subsample of predictors (only numerical values)\n",
    "    - For correlation calculate statistical significance to highlight the probability of error within the identified correlations and output the sample size (as sample size can impact outcomes significantly)\n",
    "- PCA (and incremental/randomised/Kernel plus how to sleect the best kernel PCA) and compare the results\n",
    "    - For PCA output statistics (loadings & scores) regarding the components and plot a scree plot\n",
    "- BPDR (Backward Progressive Dimensionality Reduction)\n",
    "- ICA\n",
    "    - Technique to uncover or verify statistically independent variables or dimensions in high-dimensional data\n",
    "    - Complete ICA preprocessing (centering & whitening - Transform a data point linearly so components are uncorrelated and of equal unity)\n",
    "    - Implement two methods for defining independence in ICA (Minimization of Mutual Information/Non-Gaussianity Maximization)\n",
    "- Factor Analysis --- Categorical Data\n",
    "    - Complete exploratory factor analysis (describe function)\n",
    "    - Complete confirmatory factor analysis (determine the degree of uniqueness, factor loadings and factor matrix)\n",
    "    - Calculate the model degree of freedom and determine the factor limit (i.e. when are two many factors attempting to be used in relation to the number of variables available\n",
    "- NNMF (a.k.a NMF)\n",
    "- LDA (and applied to K-Means)\n",
    "- Local linear Embeddings \n",
    "\n",
    "Perhaps complete non-linear in a separate notebook\n",
    "- Non-Linear Dimension Reduction: (t-SNE/IsoMap/MDS)\n",
    "\n",
    "Calculate explained variance ratio\n",
    "Plot and select the correct number of dimenions that retain 95% variability \n",
    "Reverse the projection for PCA and calculate the reconstruction error\n",
    "Implement Incremental PCA\n",
    "Neatly store: Date/Data set/Pickle Model\n",
    "Document brief conclusions\n",
    "\n",
    "**Dimension Reduction Notes** <br>\n",
    "Out of scope feature selection methods can also be used for dimension reduction\n",
    "- Random Forest\n",
    "    - Add brief notes\n",
    "- Backward Feature Elimination\n",
    "    - Add brief notes\n",
    "- Forward Feature Selection\n",
    "    - Add brief notes\n",
    "\n",
    "**Conclusions** <br>\n",
    "\n",
    "**Potential Gotchas** <br>\n",
    "\n",
    "**References** <br>"
   ]
  },
  {
   "cell_type": "code",
   "execution_count": 1,
   "metadata": {},
   "outputs": [],
   "source": [
    "import pandas as pd"
   ]
  },
  {
   "cell_type": "code",
   "execution_count": 2,
   "metadata": {},
   "outputs": [],
   "source": [
    "train_data = pd.read_csv('/Users/Rej1992/Documents/DimensionReduction_RawData/train.csv')\n",
    "test_data = pd.read_csv('/Users/Rej1992/Documents/DimensionReduction_RawData/test.csv')"
   ]
  },
  {
   "cell_type": "code",
   "execution_count": 3,
   "metadata": {},
   "outputs": [
    {
     "data": {
      "text/plain": [
       "(595212, 59)"
      ]
     },
     "execution_count": 3,
     "metadata": {},
     "output_type": "execute_result"
    }
   ],
   "source": [
    "train_data.shape"
   ]
  },
  {
   "cell_type": "code",
   "execution_count": 4,
   "metadata": {},
   "outputs": [
    {
     "name": "stdout",
     "output_type": "stream",
     "text": [
      "<class 'pandas.core.frame.DataFrame'>\n",
      "RangeIndex: 595212 entries, 0 to 595211\n",
      "Data columns (total 59 columns):\n",
      " #   Column          Non-Null Count   Dtype  \n",
      "---  ------          --------------   -----  \n",
      " 0   id              595212 non-null  int64  \n",
      " 1   target          595212 non-null  int64  \n",
      " 2   ps_ind_01       595212 non-null  int64  \n",
      " 3   ps_ind_02_cat   595212 non-null  int64  \n",
      " 4   ps_ind_03       595212 non-null  int64  \n",
      " 5   ps_ind_04_cat   595212 non-null  int64  \n",
      " 6   ps_ind_05_cat   595212 non-null  int64  \n",
      " 7   ps_ind_06_bin   595212 non-null  int64  \n",
      " 8   ps_ind_07_bin   595212 non-null  int64  \n",
      " 9   ps_ind_08_bin   595212 non-null  int64  \n",
      " 10  ps_ind_09_bin   595212 non-null  int64  \n",
      " 11  ps_ind_10_bin   595212 non-null  int64  \n",
      " 12  ps_ind_11_bin   595212 non-null  int64  \n",
      " 13  ps_ind_12_bin   595212 non-null  int64  \n",
      " 14  ps_ind_13_bin   595212 non-null  int64  \n",
      " 15  ps_ind_14       595212 non-null  int64  \n",
      " 16  ps_ind_15       595212 non-null  int64  \n",
      " 17  ps_ind_16_bin   595212 non-null  int64  \n",
      " 18  ps_ind_17_bin   595212 non-null  int64  \n",
      " 19  ps_ind_18_bin   595212 non-null  int64  \n",
      " 20  ps_reg_01       595212 non-null  float64\n",
      " 21  ps_reg_02       595212 non-null  float64\n",
      " 22  ps_reg_03       595212 non-null  float64\n",
      " 23  ps_car_01_cat   595212 non-null  int64  \n",
      " 24  ps_car_02_cat   595212 non-null  int64  \n",
      " 25  ps_car_03_cat   595212 non-null  int64  \n",
      " 26  ps_car_04_cat   595212 non-null  int64  \n",
      " 27  ps_car_05_cat   595212 non-null  int64  \n",
      " 28  ps_car_06_cat   595212 non-null  int64  \n",
      " 29  ps_car_07_cat   595212 non-null  int64  \n",
      " 30  ps_car_08_cat   595212 non-null  int64  \n",
      " 31  ps_car_09_cat   595212 non-null  int64  \n",
      " 32  ps_car_10_cat   595212 non-null  int64  \n",
      " 33  ps_car_11_cat   595212 non-null  int64  \n",
      " 34  ps_car_11       595212 non-null  int64  \n",
      " 35  ps_car_12       595212 non-null  float64\n",
      " 36  ps_car_13       595212 non-null  float64\n",
      " 37  ps_car_14       595212 non-null  float64\n",
      " 38  ps_car_15       595212 non-null  float64\n",
      " 39  ps_calc_01      595212 non-null  float64\n",
      " 40  ps_calc_02      595212 non-null  float64\n",
      " 41  ps_calc_03      595212 non-null  float64\n",
      " 42  ps_calc_04      595212 non-null  int64  \n",
      " 43  ps_calc_05      595212 non-null  int64  \n",
      " 44  ps_calc_06      595212 non-null  int64  \n",
      " 45  ps_calc_07      595212 non-null  int64  \n",
      " 46  ps_calc_08      595212 non-null  int64  \n",
      " 47  ps_calc_09      595212 non-null  int64  \n",
      " 48  ps_calc_10      595212 non-null  int64  \n",
      " 49  ps_calc_11      595212 non-null  int64  \n",
      " 50  ps_calc_12      595212 non-null  int64  \n",
      " 51  ps_calc_13      595212 non-null  int64  \n",
      " 52  ps_calc_14      595212 non-null  int64  \n",
      " 53  ps_calc_15_bin  595212 non-null  int64  \n",
      " 54  ps_calc_16_bin  595212 non-null  int64  \n",
      " 55  ps_calc_17_bin  595212 non-null  int64  \n",
      " 56  ps_calc_18_bin  595212 non-null  int64  \n",
      " 57  ps_calc_19_bin  595212 non-null  int64  \n",
      " 58  ps_calc_20_bin  595212 non-null  int64  \n",
      "dtypes: float64(10), int64(49)\n",
      "memory usage: 267.9 MB\n"
     ]
    }
   ],
   "source": [
    "train_data.info()"
   ]
  },
  {
   "cell_type": "markdown",
   "metadata": {},
   "source": [
    "## Exploratory Data Analysis "
   ]
  },
  {
   "cell_type": "code",
   "execution_count": null,
   "metadata": {},
   "outputs": [],
   "source": []
  },
  {
   "cell_type": "markdown",
   "metadata": {},
   "source": [
    "## Dimension Reduction Algorithms"
   ]
  },
  {
   "cell_type": "code",
   "execution_count": null,
   "metadata": {},
   "outputs": [],
   "source": []
  }
 ],
 "metadata": {
  "kernelspec": {
   "display_name": "Python 3",
   "language": "python",
   "name": "python3"
  },
  "language_info": {
   "codemirror_mode": {
    "name": "ipython",
    "version": 3
   },
   "file_extension": ".py",
   "mimetype": "text/x-python",
   "name": "python",
   "nbconvert_exporter": "python",
   "pygments_lexer": "ipython3",
   "version": "3.6.5"
  }
 },
 "nbformat": 4,
 "nbformat_minor": 4
}
