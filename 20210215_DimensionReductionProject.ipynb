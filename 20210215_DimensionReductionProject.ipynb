{
 "cells": [
  {
   "cell_type": "markdown",
   "metadata": {},
   "source": [
    "**Project Aim**\n",
    "\n",
    "**Project Assumptions**\n",
    "\n",
    "**Project Objective**\n",
    "\n",
    "Neatly store: Date/Data set/Pickle Model\n",
    "Document brief conclusions\n",
    "\n",
    "**Dimension Reduction Notes**\n",
    "\n",
    "**Conclusions**\n",
    "\n",
    "**Potential Gotchas**\n",
    "\n",
    "**References**"
   ]
  },
  {
   "cell_type": "code",
   "execution_count": null,
   "metadata": {},
   "outputs": [],
   "source": []
  }
 ],
 "metadata": {
  "kernelspec": {
   "display_name": "Python 3",
   "language": "python",
   "name": "python3"
  },
  "language_info": {
   "codemirror_mode": {
    "name": "ipython",
    "version": 3
   },
   "file_extension": ".py",
   "mimetype": "text/x-python",
   "name": "python",
   "nbconvert_exporter": "python",
   "pygments_lexer": "ipython3",
   "version": "3.6.5"
  }
 },
 "nbformat": 4,
 "nbformat_minor": 4
}
